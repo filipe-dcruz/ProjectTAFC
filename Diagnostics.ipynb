{
 "cells": [
  {
   "cell_type": "code",
   "execution_count": 44,
   "metadata": {},
   "outputs": [],
   "source": [
    "import numpy as np\n",
    "import matplotlib.pyplot as plt"
   ]
  },
  {
   "cell_type": "code",
   "execution_count": 45,
   "metadata": {},
   "outputs": [],
   "source": [
    "plt.rcParams['figure.figsize'] = [10, 6]\n",
    "plt.rcParams['figure.dpi'] = 100 # 200 e.g. is really fine, but slower\n",
    "plt.rcParams['lines.linewidth'] = 2\n",
    "plt.rcParams['font.size'] = 16\n",
    "plt.rcParams['axes.linewidth'] = 2"
   ]
  },
  {
   "cell_type": "code",
   "execution_count": 63,
   "metadata": {},
   "outputs": [],
   "source": [
    "dir = \"results/\"\n",
    "dir_save = \"plots/\"\n",
    "label = [\"ions-density.txt\",\"electrons-density.txt\"]\n",
    "num = len(label)\n",
    "nprint = 20 "
   ]
  },
  {
   "cell_type": "code",
   "execution_count": 70,
   "metadata": {},
   "outputs": [],
   "source": [
    "# Open density file\n",
    "file = [0]*num\n",
    "Content = [0]*num\n",
    "CoList = [0]*num\n",
    "\n",
    "# Read data from files\n",
    "for n in range(num) :\n",
    "    file[n] = open(dir+label[n],\"rt\")\n",
    "    Content[n] = file[n].read()\n",
    "    CoList[n] = Content[n].split(\"\\n\")"
   ]
  },
  {
   "cell_type": "code",
   "execution_count": 71,
   "metadata": {},
   "outputs": [
    {
     "name": "stdout",
     "output_type": "stream",
     "text": [
      "78   2\n",
      "0.0\n",
      "1.0\n",
      "2.0\n",
      "3.0\n"
     ]
    }
   ],
   "source": [
    "# Scan files\n",
    "ind = 0\n",
    "index = []\n",
    "time = []\n",
    "\n",
    "# Get times and file positions\n",
    "i = 0\n",
    "for line in CoList[ind] :\n",
    "    \n",
    "    if line[:4] == \"t = \" :\n",
    "        time.insert(len(time),float(line[4:]))\n",
    "        index.insert(len(time),i)\n",
    "\n",
    "    i+=1\n",
    "\n",
    "number_of_times = len(time) \n",
    "n_col = len(CoList[ind][1].split())\n",
    "\n",
    "size = index[1]-index[0]-1\n",
    "\n",
    "print(number_of_times, ' ', n_col)\n",
    "\n",
    "array = np.zeros((number_of_times,size,n_col))\n",
    "\n",
    "# Get data\n",
    "for n in range(number_of_times-1) :\n",
    "    i = 0 \n",
    "    \n",
    "    for line in CoList[ind][index[n]+1:index[n+1]] :\n",
    "        aux = line.split()\n",
    "        \n",
    "        for l in range(n_col):\n",
    "            array[n][i][l] = float(aux[l])\n",
    "            \n",
    "        i+=1\n",
    "    if n % nprint == 0 :\n",
    "        print(n/nprint)\n",
    "        fig, ax = plt.subplots(figsize=(8, 5))\n",
    "        plt.plot(array[n,:,0],array[n,:,1], '-')\n",
    "        plt.title(r't = '+str(time[n]) + r' 1/$\\omega_{pe}$')\n",
    "        plt.xlabel(r\"x [$x/\\omega_{pe}$]\")\n",
    "        plt.ylabel(r'n [$n_0$]')\n",
    "        ax.set_ylim([0,10])\n",
    "        plt.savefig(dir_save+f\"{int(n/nprint):04d}.png\")\n",
    "        plt.close()\n"
   ]
  },
  {
   "cell_type": "code",
   "execution_count": null,
   "metadata": {},
   "outputs": [],
   "source": []
  },
  {
   "cell_type": "code",
   "execution_count": null,
   "metadata": {},
   "outputs": [],
   "source": []
  }
 ],
 "metadata": {
  "kernelspec": {
   "display_name": "Python 3",
   "language": "python",
   "name": "python3"
  },
  "language_info": {
   "codemirror_mode": {
    "name": "ipython",
    "version": 3
   },
   "file_extension": ".py",
   "mimetype": "text/x-python",
   "name": "python",
   "nbconvert_exporter": "python",
   "pygments_lexer": "ipython3",
   "version": "3.7.6"
  }
 },
 "nbformat": 4,
 "nbformat_minor": 4
}
